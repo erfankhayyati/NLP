{
 "cells": [
  {
   "cell_type": "markdown",
   "id": "c329b544-da67-4a4b-a3c6-9561e5698384",
   "metadata": {},
   "source": [
    "# SMS Classification using Glove.6b.100d Embedding"
   ]
  },
  {
   "cell_type": "code",
   "execution_count": 6,
   "id": "43c087b8-cef6-4c18-afd8-de0f16a1de56",
   "metadata": {},
   "outputs": [],
   "source": [
    "import pandas as pd\n",
    "import re\n",
    "import nltk\n",
    "from nltk.corpus import stopwords\n",
    "from nltk.tokenize import word_tokenize\n",
    "import numpy as np"
   ]
  },
  {
   "cell_type": "code",
   "execution_count": 7,
   "id": "6822d03c-1163-4b24-8620-2b6aa2bcf0a7",
   "metadata": {},
   "outputs": [
    {
     "name": "stderr",
     "output_type": "stream",
     "text": [
      "[nltk_data] Downloading package punkt to\n",
      "[nltk_data]     C:\\Users\\erfan\\AppData\\Roaming\\nltk_data...\n",
      "[nltk_data]   Package punkt is already up-to-date!\n",
      "[nltk_data] Downloading package stopwords to\n",
      "[nltk_data]     C:\\Users\\erfan\\AppData\\Roaming\\nltk_data...\n",
      "[nltk_data]   Package stopwords is already up-to-date!\n"
     ]
    },
    {
     "data": {
      "text/plain": [
       "True"
      ]
     },
     "execution_count": 7,
     "metadata": {},
     "output_type": "execute_result"
    }
   ],
   "source": [
    "# NLTK resources\n",
    "nltk.download('punkt')\n",
    "nltk.download('stopwords')"
   ]
  },
  {
   "cell_type": "markdown",
   "id": "2df5c9a8-f44c-484c-ac97-f049a554675e",
   "metadata": {},
   "source": [
    "### Load dataset"
   ]
  },
  {
   "cell_type": "code",
   "execution_count": 8,
   "id": "ba35098f-0778-4434-be59-39f4d61ed35b",
   "metadata": {},
   "outputs": [
    {
     "name": "stdout",
     "output_type": "stream",
     "text": [
      "  label                                            message\n",
      "0   ham  Go until jurong point, crazy.. Available only ...\n",
      "1   ham                      Ok lar... Joking wif u oni...\n",
      "2  spam  Free entry in 2 a wkly comp to win FA Cup fina...\n",
      "3   ham  U dun say so early hor... U c already then say...\n",
      "4   ham  Nah I don't think he goes to usf, he lives aro...\n"
     ]
    }
   ],
   "source": [
    "df = pd.read_csv(\"1 - Text preprocessing and Representation/spam.csv\", encoding='latin-1')[['v1', 'v2']]\n",
    "df.columns = ['label', 'message']\n",
    "print(df.head())"
   ]
  },
  {
   "cell_type": "markdown",
   "id": "b67eb566-c48c-4377-94e0-67f67924948b",
   "metadata": {},
   "source": [
    "### Text preprocessing\n",
    "\n",
    "##### Removing stopwords, numbers and (!@#$%...)\n",
    "##### Tokenizing"
   ]
  },
  {
   "cell_type": "code",
   "execution_count": 9,
   "id": "753e524d-fb6c-44b4-b92b-0f7f21353f49",
   "metadata": {},
   "outputs": [
    {
     "name": "stdout",
     "output_type": "stream",
     "text": [
      "\n",
      "Sample tokens:\n",
      "   label                                            message  \\\n",
      "0   ham  Go until jurong point, crazy.. Available only ...   \n",
      "1   ham                      Ok lar... Joking wif u oni...   \n",
      "2  spam  Free entry in 2 a wkly comp to win FA Cup fina...   \n",
      "3   ham  U dun say so early hor... U c already then say...   \n",
      "4   ham  Nah I don't think he goes to usf, he lives aro...   \n",
      "\n",
      "                                              tokens  \n",
      "0  [go, jurong, point, crazy, available, bugis, n...  \n",
      "1                     [ok, lar, joking, wif, u, oni]  \n",
      "2  [free, entry, wkly, comp, win, fa, cup, final,...  \n",
      "3      [u, dun, say, early, hor, u, c, already, say]  \n",
      "4  [nah, dont, think, goes, usf, lives, around, t...  \n"
     ]
    }
   ],
   "source": [
    "stop_words = set(stopwords.words('english'))\n",
    "\n",
    "def clean_text(text):\n",
    "    text = text.lower()                        \n",
    "    text = re.sub(r'[^a-z\\s]', '', text)        # remove punctuation & numbers\n",
    "    tokens = word_tokenize(text)\n",
    "    tokens = [w for w in tokens if w not in stop_words]\n",
    "    return tokens\n",
    "\n",
    "df['tokens'] = df['message'].apply(clean_text)\n",
    "print(\"\\nSample tokens:\\n\", df.head())\n"
   ]
  },
  {
   "cell_type": "markdown",
   "id": "b07b5c85-a27a-4875-852d-1eb90673be58",
   "metadata": {},
   "source": [
    "### Load Pretrained GloVe Embeddings\n",
    "downloded from Stanford website (glove.6B.100d.txt)"
   ]
  },
  {
   "cell_type": "code",
   "execution_count": null,
   "id": "52863391-7a57-4226-b05f-51783afa91a1",
   "metadata": {
    "scrolled": true
   },
   "outputs": [],
   "source": [
    "embeddings_index = {}\n",
    "with open('glove.6B.100d.txt', encoding='utf8') as f:\n",
    "    for line in f:\n",
    "        values = line.split()\n",
    "        word = values[0]\n",
    "        vector = np.asarray(values[1:], dtype='float32')\n",
    "        embeddings_index[word] = vector\n",
    "\n",
    "print(f\"Loaded {len(embeddings_index)} word vectors.\")\n"
   ]
  },
  {
   "cell_type": "markdown",
   "id": "a6a7c86d-bf51-4b18-858e-7ada4d52133c",
   "metadata": {},
   "source": [
    "### Convert Each SMS to an Average GloVe Vector"
   ]
  },
  {
   "cell_type": "markdown",
   "id": "6f655978-c36e-44f8-9039-ffda22dc335f",
   "metadata": {},
   "source": [
    "converting each data sample to an embedding:\n",
    "1. Get the embedding of that word from Glove\n",
    "2. np.mean over the tokens in the data sample\n",
    "##### to have just one embedding vector per data sample (SMS)"
   ]
  },
  {
   "cell_type": "code",
   "execution_count": 11,
   "id": "0b290018-51d2-4051-95ae-54bc8f820b03",
   "metadata": {},
   "outputs": [
    {
     "name": "stdout",
     "output_type": "stream",
     "text": [
      "Feature matrix shape: (5572, 100)\n"
     ]
    }
   ],
   "source": [
    "def get_glove_vector(tokens):\n",
    "    vectors = [embeddings_index[w] for w in tokens if w in embeddings_index]\n",
    "    if len(vectors) > 0:\n",
    "        return np.mean(vectors, axis=0)\n",
    "    else:\n",
    "        return np.zeros(100)   # 100 dimensions in glove.6B.100d.txt\n",
    "\n",
    "X = np.array([get_glove_vector(tokens) for tokens in df['tokens']])\n",
    "y = df['label'].map({'ham': 0, 'spam': 1}).values\n",
    "\n",
    "print(\"Feature matrix shape:\", X.shape)\n"
   ]
  },
  {
   "cell_type": "code",
   "execution_count": 15,
   "id": "02a47a80-981e-4b35-8287-554d274cb450",
   "metadata": {},
   "outputs": [
    {
     "data": {
      "text/plain": [
       "['go',\n",
       " 'jurong',\n",
       " 'point',\n",
       " 'crazy',\n",
       " 'available',\n",
       " 'bugis',\n",
       " 'n',\n",
       " 'great',\n",
       " 'world',\n",
       " 'la',\n",
       " 'e',\n",
       " 'buffet',\n",
       " 'cine',\n",
       " 'got',\n",
       " 'amore',\n",
       " 'wat']"
      ]
     },
     "execution_count": 15,
     "metadata": {},
     "output_type": "execute_result"
    }
   ],
   "source": [
    "df['tokens'][0]"
   ]
  },
  {
   "cell_type": "code",
   "execution_count": 16,
   "id": "c1115abf-bdad-4ed4-9966-052f72e21470",
   "metadata": {},
   "outputs": [
    {
     "data": {
      "text/plain": [
       "array([-0.05918936,  0.07337585,  0.25856537, -0.02353659, -0.15043531,\n",
       "        0.11440406,  0.04923962,  0.24415669,  0.02678226, -0.12291642,\n",
       "        0.24561794, -0.0471365 , -0.07250624,  0.02821594,  0.03220782,\n",
       "       -0.16815124,  0.17508031, -0.01834675, -0.25474107,  0.32546961,\n",
       "        0.47869146,  0.26115426,  0.00677612, -0.11002885,  0.25488085,\n",
       "        0.1717145 ,  0.10902219, -0.06052207,  0.13065593, -0.23724186,\n",
       "       -0.12778981,  0.27703524,  0.07325162,  0.16444564,  0.1883592 ,\n",
       "        0.24226403,  0.04159176,  0.21951935,  0.13562986, -0.26649016,\n",
       "        0.04803331, -0.03659412, -0.24343425, -0.3009907 ,  0.11508217,\n",
       "        0.25914812, -0.10881699, -0.18706569,  0.09885563, -0.10801812,\n",
       "       -0.27193511,  0.16061346, -0.00796499,  0.17332375, -0.50743407,\n",
       "       -1.35893118, -0.1233657 ,  0.21353976,  0.84468377,  0.07358542,\n",
       "       -0.36472583,  0.34791341, -0.37412387, -0.15056606,  0.30511537,\n",
       "        0.0726422 ,  0.18922812, -0.00659894,  0.20287395,  0.01746794,\n",
       "       -0.02174686,  0.01064451, -0.00272844, -0.30824855,  0.13839723,\n",
       "       -0.00184212, -0.03912544, -0.06290793, -0.23027335, -0.04750543,\n",
       "        0.21303461, -0.23484419, -0.2079272 , -0.16807118, -0.68498063,\n",
       "        0.03975932, -0.20182225, -0.37727827,  0.04203375, -0.14312564,\n",
       "       -0.27805263,  0.02501781,  0.16307139,  0.12822214, -0.22689973,\n",
       "       -0.15326744, -0.14581677, -0.41695449,  0.40576965,  0.18938957])"
      ]
     },
     "execution_count": 16,
     "metadata": {},
     "output_type": "execute_result"
    }
   ],
   "source": [
    "X[0]"
   ]
  },
  {
   "cell_type": "markdown",
   "id": "d0eef000-b5dc-4572-bf8e-aaa7f179673f",
   "metadata": {},
   "source": [
    "### Split the Data & Train Classifier "
   ]
  },
  {
   "cell_type": "code",
   "execution_count": 17,
   "id": "2688f551-fe3c-42c1-9c40-e1a2109aae98",
   "metadata": {},
   "outputs": [
    {
     "name": "stdout",
     "output_type": "stream",
     "text": [
      "              precision    recall  f1-score   support\n",
      "\n",
      "           0       0.95      0.97      0.96       966\n",
      "           1       0.78      0.68      0.73       149\n",
      "\n",
      "    accuracy                           0.93      1115\n",
      "   macro avg       0.87      0.82      0.84      1115\n",
      "weighted avg       0.93      0.93      0.93      1115\n",
      "\n"
     ]
    }
   ],
   "source": [
    "from sklearn.model_selection import train_test_split\n",
    "from sklearn.linear_model import LogisticRegression\n",
    "from sklearn.metrics import classification_report, confusion_matrix\n",
    "\n",
    "X_train, X_test, y_train, y_test = train_test_split(\n",
    "    X, y, test_size=0.2, random_state=42, stratify=y\n",
    ")\n",
    "\n",
    "clf = LogisticRegression(max_iter=1000)\n",
    "clf.fit(X_train, y_train)\n",
    "y_pred = clf.predict(X_test)\n",
    "\n",
    "print(classification_report(y_test, y_pred))\n"
   ]
  },
  {
   "cell_type": "code",
   "execution_count": null,
   "id": "d0dcfa6a-dace-438d-a2fa-536792abc036",
   "metadata": {},
   "outputs": [],
   "source": []
  }
 ],
 "metadata": {
  "kernelspec": {
   "display_name": "Python 3 (ipykernel)",
   "language": "python",
   "name": "python3"
  },
  "language_info": {
   "codemirror_mode": {
    "name": "ipython",
    "version": 3
   },
   "file_extension": ".py",
   "mimetype": "text/x-python",
   "name": "python",
   "nbconvert_exporter": "python",
   "pygments_lexer": "ipython3",
   "version": "3.8.20"
  }
 },
 "nbformat": 4,
 "nbformat_minor": 5
}
