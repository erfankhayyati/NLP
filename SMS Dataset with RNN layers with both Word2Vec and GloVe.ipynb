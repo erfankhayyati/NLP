{
 "cells": [
  {
   "cell_type": "code",
   "execution_count": 48,
   "id": "7f67be91-9789-491f-af9d-21452850a1ef",
   "metadata": {},
   "outputs": [],
   "source": [
    "import pandas as pd\n",
    "import numpy as np\n",
    "import re\n",
    "import nltk\n",
    "from nltk.corpus import stopwords\n",
    "from nltk.tokenize import word_tokenize\n",
    "from tensorflow.keras.preprocessing.text import Tokenizer\n",
    "from tensorflow.keras.preprocessing.sequence import pad_sequences\n",
    "from tensorflow.keras.models import Sequential\n",
    "from tensorflow.keras.layers import Embedding, SimpleRNN, GRU, LSTM, Dense, Dropout\n",
    "from tensorflow.keras.optimizers import Adam\n",
    "from sklearn.model_selection import train_test_split\n",
    "from sklearn.metrics import classification_report\n",
    "from gensim.models import Word2Vec\n",
    "import tensorflow as tf\n",
    "\n",
    "SEED = 42\n",
    "np.random.seed(SEED)\n",
    "tf.random.set_seed(SEED)\n"
   ]
  },
  {
   "cell_type": "code",
   "execution_count": 49,
   "id": "f0649681-1f2f-4cb5-83bf-7c7365d6bdf6",
   "metadata": {},
   "outputs": [
    {
     "name": "stderr",
     "output_type": "stream",
     "text": [
      "[nltk_data] Downloading package punkt to\n",
      "[nltk_data]     C:\\Users\\erfan\\AppData\\Roaming\\nltk_data...\n",
      "[nltk_data]   Package punkt is already up-to-date!\n",
      "[nltk_data] Downloading package stopwords to\n",
      "[nltk_data]     C:\\Users\\erfan\\AppData\\Roaming\\nltk_data...\n",
      "[nltk_data]   Package stopwords is already up-to-date!\n"
     ]
    },
    {
     "name": "stdout",
     "output_type": "stream",
     "text": [
      "  label                                            message\n",
      "0   ham  Go until jurong point, crazy.. Available only ...\n",
      "1   ham                      Ok lar... Joking wif u oni...\n",
      "2  spam  Free entry in 2 a wkly comp to win FA Cup fina...\n",
      "3   ham  U dun say so early hor... U c already then say...\n",
      "4   ham  Nah I don't think he goes to usf, he lives aro...\n"
     ]
    }
   ],
   "source": [
    "# NLTK setup\n",
    "nltk.download('punkt')\n",
    "nltk.download('stopwords')\n",
    "\n",
    "# Load dataset\n",
    "df = pd.read_csv(\"1 - Text preprocessing and Representation/spam.csv\", encoding='latin-1')[['v1', 'v2']]\n",
    "df.columns = ['label', 'message']\n",
    "print(df.head())\n",
    "\n",
    "# Text cleaning\n",
    "stop_words = set(stopwords.words('english'))\n",
    "def clean_text(text):\n",
    "    text = text.lower()\n",
    "    text = re.sub(r'[^a-z\\s]', '', text)\n",
    "    tokens = word_tokenize(text)\n",
    "    tokens = [w for w in tokens if w not in stop_words]\n",
    "    return tokens\n",
    "\n",
    "df['tokens'] = df['message'].apply(clean_text)\n",
    "df['label'] = df['label'].map({'ham': 0, 'spam': 1})\n"
   ]
  },
  {
   "cell_type": "code",
   "execution_count": 50,
   "id": "97e96828-83e7-440c-af93-ad015f8c4d75",
   "metadata": {},
   "outputs": [
    {
     "data": {
      "text/plain": [
       "label\n",
       "0    4825\n",
       "1     747\n",
       "Name: count, dtype: int64"
      ]
     },
     "execution_count": 50,
     "metadata": {},
     "output_type": "execute_result"
    }
   ],
   "source": [
    "df['label'].value_counts()"
   ]
  },
  {
   "cell_type": "code",
   "execution_count": 51,
   "id": "3d2374fc-a4fc-45d5-b307-d0678c92ff1f",
   "metadata": {},
   "outputs": [
    {
     "name": "stdout",
     "output_type": "stream",
     "text": [
      "Word2Vec vocabulary size: 3835\n"
     ]
    }
   ],
   "source": [
    "sentences = df['tokens'].tolist()\n",
    "w2v_model = Word2Vec(\n",
    "    sentences=sentences,\n",
    "    vector_size=100,\n",
    "    window=5,\n",
    "    min_count=2,\n",
    "    sg=1,\n",
    "    workers=4,\n",
    "    epochs=20\n",
    ")\n",
    "\n",
    "print(\"Word2Vec vocabulary size:\", len(w2v_model.wv))\n"
   ]
  },
  {
   "cell_type": "code",
   "execution_count": 52,
   "id": "3ec9039e-b2bf-470b-ae11-0dfa4f14af10",
   "metadata": {},
   "outputs": [
    {
     "name": "stdout",
     "output_type": "stream",
     "text": [
      "Vocab size: 8404\n",
      "Max sequence length: 80\n"
     ]
    }
   ],
   "source": [
    "# Tokenize text\n",
    "tokenizer = Tokenizer()\n",
    "tokenizer.fit_on_texts(df['tokens'])\n",
    "sequences = tokenizer.texts_to_sequences(df['tokens'])\n",
    "\n",
    "# Pad sequences to the same length\n",
    "max_len = max(len(s) for s in sequences)\n",
    "X = pad_sequences(sequences, maxlen=max_len, padding='post')\n",
    "y = df['label'].values\n",
    "\n",
    "vocab_size = len(tokenizer.word_index) + 1\n",
    "print(\"Vocab size:\", vocab_size)\n",
    "print(\"Max sequence length:\", max_len)\n"
   ]
  },
  {
   "cell_type": "code",
   "execution_count": 53,
   "id": "c3f943fd-72dc-4c9d-aa55-88d0c2907f1c",
   "metadata": {},
   "outputs": [],
   "source": [
    "embedding_dim = 100\n",
    "embedding_matrix = np.zeros((vocab_size, embedding_dim))\n",
    "\n",
    "for word, i in tokenizer.word_index.items():\n",
    "    if word in w2v_model.wv:\n",
    "        embedding_matrix[i] = w2v_model.wv[word]\n"
   ]
  },
  {
   "cell_type": "code",
   "execution_count": 54,
   "id": "37746200-31a4-4bca-9dfe-096aa903b5c8",
   "metadata": {},
   "outputs": [],
   "source": [
    "def build_rnn(model_type='LSTM'):\n",
    "    model = Sequential()\n",
    "    model.add(Embedding(vocab_size, embedding_dim,\n",
    "                        weights=[embedding_matrix],\n",
    "                        input_length=max_len,\n",
    "                        trainable=False))  # freeze pretrained embeddings\n",
    "    if model_type == 'SimpleRNN':\n",
    "        model.add(SimpleRNN(128, return_sequences=False))\n",
    "    elif model_type == 'GRU':\n",
    "        model.add(GRU(128, return_sequences=False))\n",
    "    elif model_type == 'LSTM':\n",
    "        model.add(LSTM(128, return_sequences=False))\n",
    "    else:\n",
    "        raise ValueError(\"Invalid model_type. Choose from ['SimpleRNN', 'GRU', 'LSTM']\")\n",
    "    \n",
    "    model.add(Dropout(0.5))\n",
    "    model.add(Dense(64, activation='relu'))\n",
    "    model.add(Dense(1, activation='sigmoid'))\n",
    "\n",
    "    model.compile(loss='binary_crossentropy',\n",
    "                  optimizer=Adam(learning_rate=1e-3),\n",
    "                  metrics=['accuracy'])\n",
    "    return model\n"
   ]
  },
  {
   "cell_type": "code",
   "execution_count": 55,
   "id": "b0c6281f-7187-4a1d-95bf-f88840c86939",
   "metadata": {},
   "outputs": [
    {
     "name": "stdout",
     "output_type": "stream",
     "text": [
      "\n",
      " Training SimpleRNN model...\n",
      "Epoch 1/5\n",
      "56/56 [==============================] - 6s 99ms/step - loss: 0.3282 - accuracy: 0.8724 - val_loss: 0.2446 - val_accuracy: 0.9204\n",
      "Epoch 2/5\n",
      "56/56 [==============================] - 5s 96ms/step - loss: 0.1679 - accuracy: 0.9509 - val_loss: 0.2063 - val_accuracy: 0.9283\n",
      "Epoch 3/5\n",
      "56/56 [==============================] - 5s 88ms/step - loss: 0.1355 - accuracy: 0.9607 - val_loss: 0.1447 - val_accuracy: 0.9473\n",
      "Epoch 4/5\n",
      "56/56 [==============================] - 4s 77ms/step - loss: 0.1198 - accuracy: 0.9647 - val_loss: 0.1436 - val_accuracy: 0.9518\n",
      "Epoch 5/5\n",
      "56/56 [==============================] - 5s 92ms/step - loss: 0.1077 - accuracy: 0.9725 - val_loss: 0.1894 - val_accuracy: 0.9473\n",
      "35/35 [==============================] - 1s 23ms/step\n",
      "\n",
      " Classification report for SimpleRNN:\n",
      "              precision    recall  f1-score   support\n",
      "\n",
      "           0       0.96      1.00      0.98       966\n",
      "           1       0.98      0.72      0.83       149\n",
      "\n",
      "    accuracy                           0.96      1115\n",
      "   macro avg       0.97      0.86      0.91      1115\n",
      "weighted avg       0.96      0.96      0.96      1115\n",
      "\n",
      "\n",
      " Training GRU model...\n",
      "Epoch 1/5\n",
      "56/56 [==============================] - 3s 21ms/step - loss: 0.4376 - accuracy: 0.8715 - val_loss: 0.4400 - val_accuracy: 0.8430\n",
      "Epoch 2/5\n",
      "56/56 [==============================] - 1s 11ms/step - loss: 0.3883 - accuracy: 0.8715 - val_loss: 0.4401 - val_accuracy: 0.8430\n",
      "Epoch 3/5\n",
      "56/56 [==============================] - 1s 12ms/step - loss: 0.3900 - accuracy: 0.8715 - val_loss: 0.4351 - val_accuracy: 0.8430\n",
      "Epoch 4/5\n",
      "56/56 [==============================] - 1s 12ms/step - loss: 0.3901 - accuracy: 0.8715 - val_loss: 0.4548 - val_accuracy: 0.8430\n",
      "Epoch 5/5\n",
      "56/56 [==============================] - 1s 13ms/step - loss: 0.3890 - accuracy: 0.8715 - val_loss: 0.4344 - val_accuracy: 0.8430\n",
      "35/35 [==============================] - 0s 3ms/step\n",
      "\n",
      " Classification report for GRU:\n",
      "              precision    recall  f1-score   support\n",
      "\n",
      "           0       0.87      1.00      0.93       966\n",
      "           1       0.00      0.00      0.00       149\n",
      "\n",
      "    accuracy                           0.87      1115\n",
      "   macro avg       0.43      0.50      0.46      1115\n",
      "weighted avg       0.75      0.87      0.80      1115\n",
      "\n",
      "\n",
      " Training LSTM model...\n"
     ]
    },
    {
     "name": "stderr",
     "output_type": "stream",
     "text": [
      "C:\\Users\\erfan\\anaconda3\\envs\\my2\\lib\\site-packages\\sklearn\\metrics\\_classification.py:1469: UndefinedMetricWarning: Precision and F-score are ill-defined and being set to 0.0 in labels with no predicted samples. Use `zero_division` parameter to control this behavior.\n",
      "  _warn_prf(average, modifier, msg_start, len(result))\n",
      "C:\\Users\\erfan\\anaconda3\\envs\\my2\\lib\\site-packages\\sklearn\\metrics\\_classification.py:1469: UndefinedMetricWarning: Precision and F-score are ill-defined and being set to 0.0 in labels with no predicted samples. Use `zero_division` parameter to control this behavior.\n",
      "  _warn_prf(average, modifier, msg_start, len(result))\n",
      "C:\\Users\\erfan\\anaconda3\\envs\\my2\\lib\\site-packages\\sklearn\\metrics\\_classification.py:1469: UndefinedMetricWarning: Precision and F-score are ill-defined and being set to 0.0 in labels with no predicted samples. Use `zero_division` parameter to control this behavior.\n",
      "  _warn_prf(average, modifier, msg_start, len(result))\n"
     ]
    },
    {
     "name": "stdout",
     "output_type": "stream",
     "text": [
      "Epoch 1/5\n",
      "56/56 [==============================] - 3s 21ms/step - loss: 0.2900 - accuracy: 0.9276 - val_loss: 0.2391 - val_accuracy: 0.9462\n",
      "Epoch 2/5\n",
      "56/56 [==============================] - 1s 16ms/step - loss: 0.1232 - accuracy: 0.9624 - val_loss: 0.1242 - val_accuracy: 0.9608\n",
      "Epoch 3/5\n",
      "56/56 [==============================] - 1s 14ms/step - loss: 0.0930 - accuracy: 0.9753 - val_loss: 0.1026 - val_accuracy: 0.9697\n",
      "Epoch 4/5\n",
      "56/56 [==============================] - 1s 14ms/step - loss: 0.1054 - accuracy: 0.9719 - val_loss: 0.1662 - val_accuracy: 0.9507\n",
      "Epoch 5/5\n",
      "56/56 [==============================] - 1s 14ms/step - loss: 0.1335 - accuracy: 0.9574 - val_loss: 0.2470 - val_accuracy: 0.9540\n",
      "35/35 [==============================] - 1s 6ms/step\n",
      "\n",
      " Classification report for LSTM:\n",
      "              precision    recall  f1-score   support\n",
      "\n",
      "           0       0.97      0.99      0.98       966\n",
      "           1       0.95      0.79      0.86       149\n",
      "\n",
      "    accuracy                           0.97      1115\n",
      "   macro avg       0.96      0.89      0.92      1115\n",
      "weighted avg       0.97      0.97      0.97      1115\n",
      "\n"
     ]
    }
   ],
   "source": [
    "X_train, X_test, y_train, y_test = train_test_split(\n",
    "    X, y, test_size=0.2, random_state=42, stratify=y\n",
    ")\n",
    "\n",
    "models = ['SimpleRNN', 'GRU', 'LSTM']\n",
    "histories = {}\n",
    "\n",
    "for mtype in models:\n",
    "    print(f\"\\n Training {mtype} model...\")\n",
    "    model = build_rnn(mtype)\n",
    "    history = model.fit(\n",
    "        X_train, y_train,\n",
    "        epochs=5,\n",
    "        batch_size=64,\n",
    "        validation_split=0.2,\n",
    "        verbose=1\n",
    "    )\n",
    "    histories[mtype] = history\n",
    "    preds = (model.predict(X_test) > 0.5).astype(int)\n",
    "    print(f\"\\n Classification report for {mtype}:\")\n",
    "    print(classification_report(y_test, preds))\n"
   ]
  },
  {
   "cell_type": "code",
   "execution_count": 56,
   "id": "5e9acdd4-f5f7-4af1-9394-9a045a9b3e1b",
   "metadata": {},
   "outputs": [
    {
     "data": {
      "image/png": "[encoded data removed]",
      "text/plain": [
       "<Figure size 800x500 with 1 Axes>"
      ]
     },
     "metadata": {},
     "output_type": "display_data"
    }
   ],
   "source": [
    "import matplotlib.pyplot as plt\n",
    "\n",
    "\n",
    "plt.figure(figsize=(8,5))\n",
    "for mtype in models:\n",
    "    plt.plot(histories[mtype].history['val_accuracy'], label=f'{mtype} Val Acc')\n",
    "plt.title(\"Validation Accuracy Comparison (Word2Vec + RNNs)\")\n",
    "plt.xlabel(\"Epoch\")\n",
    "plt.ylabel(\"Accuracy\")\n",
    "plt.legend()\n",
    "plt.show()\n"
   ]
  },
  {
   "cell_type": "markdown",
   "id": "257b4ba5-4f15-4f91-8e08-5b4a498eb113",
   "metadata": {},
   "source": [
    "# GLove"
   ]
  },
  {
   "cell_type": "code",
   "execution_count": 57,
   "id": "8e3ec38c-939b-4930-85c2-2b071a2be1ba",
   "metadata": {},
   "outputs": [
    {
     "name": "stdout",
     "output_type": "stream",
     "text": [
      "  label                                            message\n",
      "0   ham  Go until jurong point, crazy.. Available only ...\n",
      "1   ham                      Ok lar... Joking wif u oni...\n",
      "2  spam  Free entry in 2 a wkly comp to win FA Cup fina...\n",
      "3   ham  U dun say so early hor... U c already then say...\n",
      "4   ham  Nah I don't think he goes to usf, he lives aro...\n"
     ]
    }
   ],
   "source": [
    "# Load dataset\n",
    "df = pd.read_csv(\"1 - Text preprocessing and Representation/spam.csv\", encoding='latin-1')[['v1', 'v2']]\n",
    "df.columns = ['label', 'message']\n",
    "print(df.head())\n",
    "\n",
    "# Text cleaning\n",
    "stop_words = set(stopwords.words('english'))\n",
    "def clean_text(text):\n",
    "    text = text.lower()\n",
    "    text = re.sub(r'[^a-z\\s]', '', text)\n",
    "    tokens = word_tokenize(text)\n",
    "    tokens = [w for w in tokens if w not in stop_words]\n",
    "    return tokens\n",
    "\n",
    "df['tokens'] = df['message'].apply(clean_text)\n",
    "df['label'] = df['label'].map({'ham': 0, 'spam': 1})\n"
   ]
  },
  {
   "cell_type": "code",
   "execution_count": 58,
   "id": "68092ee3-22a8-4fd4-99d1-d6c83efd499e",
   "metadata": {},
   "outputs": [
    {
     "name": "stdout",
     "output_type": "stream",
     "text": [
      "Vocab size: 8404\n",
      "Max sequence length: 80\n"
     ]
    }
   ],
   "source": [
    "# Tokenize text \n",
    "tokenizer = Tokenizer()\n",
    "tokenizer.fit_on_texts(df['tokens'])\n",
    "sequences = tokenizer.texts_to_sequences(df['tokens'])\n",
    "\n",
    "# Pad sequences to same length\n",
    "max_len = max(len(s) for s in sequences)\n",
    "X = pad_sequences(sequences, maxlen=max_len, padding='post')\n",
    "y = df['label'].values\n",
    "\n",
    "vocab_size = len(tokenizer.word_index) + 1\n",
    "print(\"Vocab size:\", vocab_size)\n",
    "print(\"Max sequence length:\", max_len)\n"
   ]
  },
  {
   "cell_type": "code",
   "execution_count": 59,
   "id": "bd166b33-75e2-4e91-9196-c62ff64c6dc6",
   "metadata": {},
   "outputs": [
    {
     "name": "stdout",
     "output_type": "stream",
     "text": [
      "Loaded 400000 GloVe word vectors.\n"
     ]
    }
   ],
   "source": [
    "# Load pretrained GloVe vectors\n",
    "embeddings_index = {}\n",
    "with open('glove.6B.100d.txt', encoding='utf8') as f:\n",
    "    for line in f:\n",
    "        values = line.split()\n",
    "        word = values[0]\n",
    "        vector = np.asarray(values[1:], dtype='float32')\n",
    "        embeddings_index[word] = vector\n",
    "\n",
    "print(f\"Loaded {len(embeddings_index)} GloVe word vectors.\")\n"
   ]
  },
  {
   "cell_type": "code",
   "execution_count": 60,
   "id": "b1a3feb5-0511-4dd8-8631-6ae2a4388852",
   "metadata": {},
   "outputs": [
    {
     "name": "stdout",
     "output_type": "stream",
     "text": [
      "Embedding matrix shape: (8404, 100)\n"
     ]
    }
   ],
   "source": [
    "embedding_dim = 100\n",
    "embedding_matrix = np.zeros((vocab_size, embedding_dim))\n",
    "\n",
    "for word, i in tokenizer.word_index.items():\n",
    "    vector = embeddings_index.get(word)\n",
    "    if vector is not None:\n",
    "        embedding_matrix[i] = vector\n",
    "\n",
    "print(\"Embedding matrix shape:\", embedding_matrix.shape)\n"
   ]
  },
  {
   "cell_type": "code",
   "execution_count": 61,
   "id": "b3cd8560-6248-45ba-adfd-549102898d71",
   "metadata": {},
   "outputs": [],
   "source": [
    "from tensorflow.keras.layers import Bidirectional\n",
    "\n",
    "def build_rnn(model_type='LSTM'):\n",
    "    model = Sequential()\n",
    "    model.add(Embedding(vocab_size, embedding_dim,\n",
    "                        weights=[embedding_matrix],\n",
    "                        input_length=max_len,\n",
    "                        trainable=False))  # freeze pretrained GloVe embeddings\n",
    "\n",
    "    if model_type == 'SimpleRNN':\n",
    "        model.add(SimpleRNN(128, return_sequences=False))\n",
    "    elif model_type == 'GRU':\n",
    "        model.add(GRU(128, return_sequences=False))\n",
    "    elif model_type == 'LSTM':\n",
    "        model.add(LSTM(128, return_sequences=False))\n",
    "    else:\n",
    "        raise ValueError(\"Invalid model_type. Choose from ['SimpleRNN', 'GRU', 'LSTM']\")\n",
    "    \n",
    "    model.add(Dropout(0.5))\n",
    "    model.add(Dense(64, activation='relu'))\n",
    "    model.add(Dense(1, activation='sigmoid'))\n",
    "\n",
    "    model.compile(loss='binary_crossentropy',\n",
    "                  optimizer=Adam(learning_rate=1e-3),\n",
    "                  metrics=['accuracy'])\n",
    "    return model\n"
   ]
  },
  {
   "cell_type": "code",
   "execution_count": 62,
   "id": "aaa6461f-06ef-4c80-bd4f-315187ba7ea6",
   "metadata": {},
   "outputs": [
    {
     "name": "stdout",
     "output_type": "stream",
     "text": [
      "\n",
      "Training SimpleRNN model with GloVe embeddings...\n",
      "Epoch 1/5\n",
      "56/56 [==============================] - 5s 72ms/step - loss: 0.4228 - accuracy: 0.8589 - val_loss: 0.4433 - val_accuracy: 0.8430\n",
      "Epoch 2/5\n",
      "56/56 [==============================] - 4s 77ms/step - loss: 0.3999 - accuracy: 0.8712 - val_loss: 0.4479 - val_accuracy: 0.8430\n",
      "Epoch 3/5\n",
      "56/56 [==============================] - 5s 90ms/step - loss: 0.3984 - accuracy: 0.8715 - val_loss: 0.4343 - val_accuracy: 0.8430\n",
      "Epoch 4/5\n",
      "56/56 [==============================] - 6s 100ms/step - loss: 0.3970 - accuracy: 0.8715 - val_loss: 0.4846 - val_accuracy: 0.8430\n",
      "Epoch 5/5\n",
      "56/56 [==============================] - 5s 93ms/step - loss: 0.3930 - accuracy: 0.8715 - val_loss: 0.4452 - val_accuracy: 0.8430\n",
      "35/35 [==============================] - 1s 22ms/step\n",
      "\n",
      "Classification report for SimpleRNN:\n",
      "              precision    recall  f1-score   support\n",
      "\n",
      "           0       0.87      1.00      0.93       966\n",
      "           1       0.00      0.00      0.00       149\n",
      "\n",
      "    accuracy                           0.87      1115\n",
      "   macro avg       0.43      0.50      0.46      1115\n",
      "weighted avg       0.75      0.87      0.80      1115\n",
      "\n",
      "\n",
      "Training GRU model with GloVe embeddings...\n"
     ]
    },
    {
     "name": "stderr",
     "output_type": "stream",
     "text": [
      "C:\\Users\\erfan\\anaconda3\\envs\\my2\\lib\\site-packages\\sklearn\\metrics\\_classification.py:1469: UndefinedMetricWarning: Precision and F-score are ill-defined and being set to 0.0 in labels with no predicted samples. Use `zero_division` parameter to control this behavior.\n",
      "  _warn_prf(average, modifier, msg_start, len(result))\n",
      "C:\\Users\\erfan\\anaconda3\\envs\\my2\\lib\\site-packages\\sklearn\\metrics\\_classification.py:1469: UndefinedMetricWarning: Precision and F-score are ill-defined and being set to 0.0 in labels with no predicted samples. Use `zero_division` parameter to control this behavior.\n",
      "  _warn_prf(average, modifier, msg_start, len(result))\n",
      "C:\\Users\\erfan\\anaconda3\\envs\\my2\\lib\\site-packages\\sklearn\\metrics\\_classification.py:1469: UndefinedMetricWarning: Precision and F-score are ill-defined and being set to 0.0 in labels with no predicted samples. Use `zero_division` parameter to control this behavior.\n",
      "  _warn_prf(average, modifier, msg_start, len(result))\n"
     ]
    },
    {
     "name": "stdout",
     "output_type": "stream",
     "text": [
      "Epoch 1/5\n",
      "56/56 [==============================] - 3s 23ms/step - loss: 0.4471 - accuracy: 0.8715 - val_loss: 0.4382 - val_accuracy: 0.8430\n",
      "Epoch 2/5\n",
      "56/56 [==============================] - 1s 11ms/step - loss: 0.3872 - accuracy: 0.8715 - val_loss: 0.4396 - val_accuracy: 0.8430\n",
      "Epoch 3/5\n",
      "56/56 [==============================] - 1s 11ms/step - loss: 0.3890 - accuracy: 0.8715 - val_loss: 0.4352 - val_accuracy: 0.8430\n",
      "Epoch 4/5\n",
      "56/56 [==============================] - 1s 12ms/step - loss: 0.3898 - accuracy: 0.8715 - val_loss: 0.4548 - val_accuracy: 0.8430\n",
      "Epoch 5/5\n",
      "56/56 [==============================] - 1s 12ms/step - loss: 0.3881 - accuracy: 0.8715 - val_loss: 0.4344 - val_accuracy: 0.8430\n",
      "35/35 [==============================] - 0s 3ms/step\n",
      "\n",
      "Classification report for GRU:\n",
      "              precision    recall  f1-score   support\n",
      "\n",
      "           0       0.87      1.00      0.93       966\n",
      "           1       0.00      0.00      0.00       149\n",
      "\n",
      "    accuracy                           0.87      1115\n",
      "   macro avg       0.43      0.50      0.46      1115\n",
      "weighted avg       0.75      0.87      0.80      1115\n",
      "\n",
      "\n",
      "Training LSTM model with GloVe embeddings...\n"
     ]
    },
    {
     "name": "stderr",
     "output_type": "stream",
     "text": [
      "C:\\Users\\erfan\\anaconda3\\envs\\my2\\lib\\site-packages\\sklearn\\metrics\\_classification.py:1469: UndefinedMetricWarning: Precision and F-score are ill-defined and being set to 0.0 in labels with no predicted samples. Use `zero_division` parameter to control this behavior.\n",
      "  _warn_prf(average, modifier, msg_start, len(result))\n",
      "C:\\Users\\erfan\\anaconda3\\envs\\my2\\lib\\site-packages\\sklearn\\metrics\\_classification.py:1469: UndefinedMetricWarning: Precision and F-score are ill-defined and being set to 0.0 in labels with no predicted samples. Use `zero_division` parameter to control this behavior.\n",
      "  _warn_prf(average, modifier, msg_start, len(result))\n",
      "C:\\Users\\erfan\\anaconda3\\envs\\my2\\lib\\site-packages\\sklearn\\metrics\\_classification.py:1469: UndefinedMetricWarning: Precision and F-score are ill-defined and being set to 0.0 in labels with no predicted samples. Use `zero_division` parameter to control this behavior.\n",
      "  _warn_prf(average, modifier, msg_start, len(result))\n"
     ]
    },
    {
     "name": "stdout",
     "output_type": "stream",
     "text": [
      "Epoch 1/5\n",
      "56/56 [==============================] - 3s 29ms/step - loss: 0.3513 - accuracy: 0.8684 - val_loss: 0.2146 - val_accuracy: 0.8430\n",
      "Epoch 2/5\n",
      "56/56 [==============================] - 1s 18ms/step - loss: 0.1903 - accuracy: 0.9158 - val_loss: 0.1957 - val_accuracy: 0.9417\n",
      "Epoch 3/5\n",
      "56/56 [==============================] - 1s 13ms/step - loss: 0.1655 - accuracy: 0.9473 - val_loss: 0.1597 - val_accuracy: 0.9529\n",
      "Epoch 4/5\n",
      "56/56 [==============================] - 1s 14ms/step - loss: 0.1291 - accuracy: 0.9604 - val_loss: 0.1997 - val_accuracy: 0.9552\n",
      "Epoch 5/5\n",
      "56/56 [==============================] - 1s 14ms/step - loss: 0.1129 - accuracy: 0.9705 - val_loss: 0.1694 - val_accuracy: 0.9451\n",
      "35/35 [==============================] - 0s 4ms/step\n",
      "\n",
      "Classification report for LSTM:\n",
      "              precision    recall  f1-score   support\n",
      "\n",
      "           0       0.96      1.00      0.98       966\n",
      "           1       0.98      0.72      0.83       149\n",
      "\n",
      "    accuracy                           0.96      1115\n",
      "   macro avg       0.97      0.86      0.91      1115\n",
      "weighted avg       0.96      0.96      0.96      1115\n",
      "\n"
     ]
    }
   ],
   "source": [
    "X_train, X_test, y_train, y_test = train_test_split(\n",
    "    X, y, test_size=0.2, random_state=42, stratify=y\n",
    ")\n",
    "\n",
    "models = ['SimpleRNN', 'GRU', 'LSTM']\n",
    "histories = {}\n",
    "\n",
    "for mtype in models:\n",
    "    print(f\"\\nTraining {mtype} model with GloVe embeddings...\")\n",
    "    model = build_rnn(mtype)\n",
    "    history = model.fit(\n",
    "        X_train, y_train,\n",
    "        epochs=5,\n",
    "        batch_size=64,\n",
    "        validation_split=0.2,\n",
    "        verbose=1\n",
    "    )\n",
    "    histories[mtype] = history\n",
    "\n",
    "    # --- Evaluate ---\n",
    "    preds = (model.predict(X_test) > 0.5).astype(int)\n",
    "    print(f\"\\nClassification report for {mtype}:\")\n",
    "    print(classification_report(y_test, preds))\n"
   ]
  },
  {
   "cell_type": "code",
   "execution_count": 63,
   "id": "282d8233-ee07-4b4b-afad-553ac965dbb1",
   "metadata": {},
   "outputs": [
    {
     "data": {
      "image/png": "[encoded data removed]",
      "text/plain": [
       "<Figure size 800x500 with 1 Axes>"
      ]
     },
     "metadata": {},
     "output_type": "display_data"
    }
   ],
   "source": [
    "import matplotlib.pyplot as plt\n",
    "\n",
    "plt.figure(figsize=(8,5))\n",
    "for mtype in models:\n",
    "    plt.plot(histories[mtype].history['val_accuracy'], label=f'{mtype} Val Acc')\n",
    "plt.title(\"Validation Accuracy Comparison (GloVe + RNNs)\")\n",
    "plt.xlabel(\"Epoch\")\n",
    "plt.ylabel(\"Accuracy\")\n",
    "plt.legend()\n",
    "plt.show()\n"
   ]
  },
  {
   "cell_type": "code",
   "execution_count": null,
   "id": "650b8ddc-79c3-4898-94dd-a52ffcc7800f",
   "metadata": {},
   "outputs": [],
   "source": []
  }
 ],
 "metadata": {
  "kernelspec": {
   "display_name": "Python 3 (ipykernel)",
   "language": "python",
   "name": "python3"
  },
  "language_info": {
   "codemirror_mode": {
    "name": "ipython",
    "version": 3
   },
   "file_extension": ".py",
   "mimetype": "text/x-python",
   "name": "python",
   "nbconvert_exporter": "python",
   "pygments_lexer": "ipython3",
   "version": "3.8.20"
  }
 },
 "nbformat": 4,
 "nbformat_minor": 5
}
