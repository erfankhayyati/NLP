{
 "cells": [
  {
   "cell_type": "markdown",
   "id": "c329b544-da67-4a4b-a3c6-9561e5698384",
   "metadata": {},
   "source": [
    "# SMS Classification using Word2vec Embedding"
   ]
  },
  {
   "cell_type": "code",
   "execution_count": 4,
   "id": "43c087b8-cef6-4c18-afd8-de0f16a1de56",
   "metadata": {},
   "outputs": [],
   "source": [
    "import pandas as pd\n",
    "import re\n",
    "import nltk\n",
    "from nltk.corpus import stopwords\n",
    "from nltk.tokenize import word_tokenize"
   ]
  },
  {
   "cell_type": "code",
   "execution_count": 5,
   "id": "6822d03c-1163-4b24-8620-2b6aa2bcf0a7",
   "metadata": {},
   "outputs": [
    {
     "name": "stderr",
     "output_type": "stream",
     "text": [
      "[nltk_data] Downloading package punkt to\n",
      "[nltk_data]     C:\\Users\\erfan\\AppData\\Roaming\\nltk_data...\n",
      "[nltk_data]   Package punkt is already up-to-date!\n",
      "[nltk_data] Downloading package stopwords to\n",
      "[nltk_data]     C:\\Users\\erfan\\AppData\\Roaming\\nltk_data...\n",
      "[nltk_data]   Package stopwords is already up-to-date!\n"
     ]
    },
    {
     "data": {
      "text/plain": [
       "True"
      ]
     },
     "execution_count": 5,
     "metadata": {},
     "output_type": "execute_result"
    }
   ],
   "source": [
    "# NLTK resources\n",
    "nltk.download('punkt')\n",
    "nltk.download('stopwords')"
   ]
  },
  {
   "cell_type": "markdown",
   "id": "2df5c9a8-f44c-484c-ac97-f049a554675e",
   "metadata": {},
   "source": [
    "### Load dataset"
   ]
  },
  {
   "cell_type": "code",
   "execution_count": 6,
   "id": "ba35098f-0778-4434-be59-39f4d61ed35b",
   "metadata": {},
   "outputs": [
    {
     "name": "stdout",
     "output_type": "stream",
     "text": [
      "  label                                            message\n",
      "0   ham  Go until jurong point, crazy.. Available only ...\n",
      "1   ham                      Ok lar... Joking wif u oni...\n",
      "2  spam  Free entry in 2 a wkly comp to win FA Cup fina...\n",
      "3   ham  U dun say so early hor... U c already then say...\n",
      "4   ham  Nah I don't think he goes to usf, he lives aro...\n"
     ]
    }
   ],
   "source": [
    "df = pd.read_csv(\"1 - Text preprocessing and Representation/spam.csv\", encoding='latin-1')[['v1', 'v2']]\n",
    "df.columns = ['label', 'message']\n",
    "print(df.head())"
   ]
  },
  {
   "cell_type": "markdown",
   "id": "b67eb566-c48c-4377-94e0-67f67924948b",
   "metadata": {},
   "source": [
    "### Text preprocessing\n",
    "\n",
    "##### Removing stopwords, numbers and (!@#$%...)\n",
    "##### Tokenizing"
   ]
  },
  {
   "cell_type": "code",
   "execution_count": 9,
   "id": "753e524d-fb6c-44b4-b92b-0f7f21353f49",
   "metadata": {},
   "outputs": [
    {
     "name": "stdout",
     "output_type": "stream",
     "text": [
      "\n",
      "Sample tokens:\n",
      "   label                                            message  \\\n",
      "0   ham  Go until jurong point, crazy.. Available only ...   \n",
      "1   ham                      Ok lar... Joking wif u oni...   \n",
      "2  spam  Free entry in 2 a wkly comp to win FA Cup fina...   \n",
      "3   ham  U dun say so early hor... U c already then say...   \n",
      "4   ham  Nah I don't think he goes to usf, he lives aro...   \n",
      "\n",
      "                                              tokens  \n",
      "0  [go, jurong, point, crazy, available, bugis, n...  \n",
      "1                     [ok, lar, joking, wif, u, oni]  \n",
      "2  [free, entry, wkly, comp, win, fa, cup, final,...  \n",
      "3      [u, dun, say, early, hor, u, c, already, say]  \n",
      "4  [nah, dont, think, goes, usf, lives, around, t...  \n"
     ]
    }
   ],
   "source": [
    "stop_words = set(stopwords.words('english'))\n",
    "\n",
    "def clean_text(text):\n",
    "    text = text.lower()                        \n",
    "    text = re.sub(r'[^a-z\\s]', '', text)        # remove punctuation & numbers\n",
    "    tokens = word_tokenize(text)\n",
    "    tokens = [w for w in tokens if w not in stop_words]\n",
    "    return tokens\n",
    "\n",
    "df['tokens'] = df['message'].apply(clean_text)\n",
    "print(\"\\nSample tokens:\\n\", df.head())\n"
   ]
  },
  {
   "cell_type": "markdown",
   "id": "b07b5c85-a27a-4875-852d-1eb90673be58",
   "metadata": {},
   "source": [
    "### Train Word2Vec Model"
   ]
  },
  {
   "cell_type": "code",
   "execution_count": 15,
   "id": "52863391-7a57-4226-b05f-51783afa91a1",
   "metadata": {},
   "outputs": [
    {
     "name": "stdout",
     "output_type": "stream",
     "text": [
      "\n",
      "Similar to 'free':\n",
      "[('delivered', 0.7376319766044617), ('deliveredtomorrow', 0.7173013091087341), ('oranges', 0.715730607509613), ('hardcore', 0.7134705781936646), ('increments', 0.7106471061706543)]\n"
     ]
    }
   ],
   "source": [
    "from gensim.models import Word2Vec\n",
    "\n",
    "sentences = df['tokens'].tolist()\n",
    "\n",
    "w2v_model = Word2Vec(\n",
    "    sentences=sentences, \n",
    "    vector_size=100,     # Dimension of Embedding\n",
    "    window=5,            # number of words on each side  \n",
    "    min_count=2,         # least number of occurance for each word\n",
    "    sg=1,            # 1 = skip-gram; 0 = CBOW\n",
    "    workers=4,           # number of CPU cores\n",
    "    epochs=20\n",
    ")\n",
    "\n",
    "# Explore relationships\n",
    "print(\"\\nSimilar to 'free':\")\n",
    "print(w2v_model.wv.most_similar('free', topn=5))\n"
   ]
  },
  {
   "cell_type": "markdown",
   "id": "a6a7c86d-bf51-4b18-858e-7ada4d52133c",
   "metadata": {},
   "source": [
    "### Create Document Vectors"
   ]
  },
  {
   "cell_type": "markdown",
   "id": "191e261e-16c9-4c4b-bac6-a22f411771ee",
   "metadata": {},
   "source": [
    "##### Converting each word in the SMS to a 100-d vector of embedding \n",
    "##### Then with use of np.mean average the whole words embeddings to get each SMS an embedding"
   ]
  },
  {
   "cell_type": "code",
   "execution_count": 16,
   "id": "0b290018-51d2-4051-95ae-54bc8f820b03",
   "metadata": {},
   "outputs": [
    {
     "name": "stdout",
     "output_type": "stream",
     "text": [
      "\n",
      "Feature matrix shape: (5572, 100)\n"
     ]
    }
   ],
   "source": [
    "import numpy as np\n",
    "\n",
    "def get_vector(tokens):\n",
    "    vectors = [w2v_model.wv[w] for w in tokens if w in w2v_model.wv]\n",
    "    return np.mean(vectors, axis=0) if len(vectors) > 0 else np.zeros(w2v_model.vector_size)\n",
    "\n",
    "X = np.array([get_vector(tokens) for tokens in df['tokens']])\n",
    "y = df['label'].map({'ham': 0, 'spam': 1}).values\n",
    "\n",
    "print(\"\\nFeature matrix shape:\", X.shape)"
   ]
  },
  {
   "cell_type": "markdown",
   "id": "d0eef000-b5dc-4572-bf8e-aaa7f179673f",
   "metadata": {},
   "source": [
    "### Split the Data & Train Classifier "
   ]
  },
  {
   "cell_type": "code",
   "execution_count": 17,
   "id": "2688f551-fe3c-42c1-9c40-e1a2109aae98",
   "metadata": {},
   "outputs": [
    {
     "name": "stdout",
     "output_type": "stream",
     "text": [
      "\n",
      "Classification Report:\n",
      "              precision    recall  f1-score   support\n",
      "\n",
      "           0       0.98      0.99      0.98       966\n",
      "           1       0.91      0.85      0.88       149\n",
      "\n",
      "    accuracy                           0.97      1115\n",
      "   macro avg       0.94      0.92      0.93      1115\n",
      "weighted avg       0.97      0.97      0.97      1115\n",
      "\n"
     ]
    }
   ],
   "source": [
    "from sklearn.model_selection import train_test_split\n",
    "from sklearn.linear_model import LogisticRegression\n",
    "from sklearn.metrics import classification_report, confusion_matrix\n",
    "\n",
    "X_train, X_test, y_train, y_test = train_test_split(\n",
    "    X, y, test_size=0.2, random_state=42, stratify=y\n",
    ")\n",
    "\n",
    "clf = LogisticRegression(max_iter=1000)\n",
    "clf.fit(X_train, y_train)\n",
    "\n",
    "y_pred = clf.predict(X_test)\n",
    "\n",
    "print(\"\\nClassification Report:\")\n",
    "print(classification_report(y_test, y_pred))"
   ]
  },
  {
   "cell_type": "code",
   "execution_count": null,
   "id": "1cd250a4-bae2-4d35-917d-a4ee98ea2f86",
   "metadata": {},
   "outputs": [],
   "source": []
  }
 ],
 "metadata": {
  "kernelspec": {
   "display_name": "Python 3 (ipykernel)",
   "language": "python",
   "name": "python3"
  },
  "language_info": {
   "codemirror_mode": {
    "name": "ipython",
    "version": 3
   },
   "file_extension": ".py",
   "mimetype": "text/x-python",
   "name": "python",
   "nbconvert_exporter": "python",
   "pygments_lexer": "ipython3",
   "version": "3.8.20"
  }
 },
 "nbformat": 4,
 "nbformat_minor": 5
}
