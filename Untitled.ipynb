{
 "cells": [
  {
   "cell_type": "code",
   "execution_count": 2,
   "id": "183620dd-1944-4453-8242-3ebdffec300b",
   "metadata": {},
   "outputs": [
    {
     "name": "stdout",
     "output_type": "stream",
     "text": [
      "Collecting nltk\n",
      "  Downloading nltk-3.9.1-py3-none-any.whl.metadata (2.9 kB)\n",
      "Requirement already satisfied: click in c:\\users\\erfan\\anaconda3\\envs\\my2\\lib\\site-packages (from nltk) (8.1.8)\n",
      "Requirement already satisfied: joblib in c:\\users\\erfan\\anaconda3\\envs\\my2\\lib\\site-packages (from nltk) (1.4.2)\n",
      "Collecting regex>=2021.8.3 (from nltk)\n",
      "  Downloading regex-2024.11.6-cp38-cp38-win_amd64.whl.metadata (41 kB)\n",
      "Requirement already satisfied: tqdm in c:\\users\\erfan\\anaconda3\\envs\\my2\\lib\\site-packages (from nltk) (4.67.1)\n",
      "Requirement already satisfied: colorama in c:\\users\\erfan\\anaconda3\\envs\\my2\\lib\\site-packages (from click->nltk) (0.4.6)\n",
      "Downloading nltk-3.9.1-py3-none-any.whl (1.5 MB)\n",
      "   ---------------------------------------- 0.0/1.5 MB ? eta -:--:--\n",
      "   ---------------------------------------- 1.5/1.5 MB 15.9 MB/s eta 0:00:00\n",
      "Downloading regex-2024.11.6-cp38-cp38-win_amd64.whl (274 kB)\n",
      "Installing collected packages: regex, nltk\n",
      "Successfully installed nltk-3.9.1 regex-2024.11.6\n"
     ]
    }
   ],
   "source": [
    "!pip install nltk"
   ]
  },
  {
   "cell_type": "code",
   "execution_count": 13,
   "id": "ca182c37-948a-4739-b246-06b3e5807296",
   "metadata": {},
   "outputs": [
    {
     "name": "stderr",
     "output_type": "stream",
     "text": [
      "[nltk_data] Downloading package punkt_tab to\n",
      "[nltk_data]     C:\\Users\\erfan\\AppData\\Roaming\\nltk_data...\n",
      "[nltk_data]   Unzipping tokenizers\\punkt_tab.zip.\n",
      "[nltk_data] Downloading package stopwords to\n",
      "[nltk_data]     C:\\Users\\erfan\\AppData\\Roaming\\nltk_data...\n",
      "[nltk_data]   Package stopwords is already up-to-date!\n",
      "[nltk_data] Downloading package wordnet to\n",
      "[nltk_data]     C:\\Users\\erfan\\AppData\\Roaming\\nltk_data...\n",
      "[nltk_data]   Package wordnet is already up-to-date!\n"
     ]
    },
    {
     "data": {
      "text/plain": [
       "True"
      ]
     },
     "execution_count": 13,
     "metadata": {},
     "output_type": "execute_result"
    }
   ],
   "source": [
    "import nltk\n",
    "from nltk.tokenize import word_tokenize\n",
    "from nltk.corpus import stopwords\n",
    "from nltk.stem import PorterStemmer, WordNetLemmatizer\n",
    "\n",
    "nltk.download('punkt_tab') # word_tokenize\n",
    "nltk.download('stopwords') # stopwords\n",
    "nltk.download('wordnet') # WordNetLemmatizer"
   ]
  },
  {
   "cell_type": "markdown",
   "id": "9da455c9-9140-4408-a37a-38d3a73abc06",
   "metadata": {},
   "source": [
    "### Sample text"
   ]
  },
  {
   "cell_type": "code",
   "execution_count": 14,
   "id": "ff43c218-745b-49af-9c48-34723ccfa917",
   "metadata": {},
   "outputs": [],
   "source": [
    "text = \"Cats were chasing the mice while the dogs were barking loudly in the yard.\""
   ]
  },
  {
   "cell_type": "markdown",
   "id": "cfafc355-b38a-44a9-baeb-2efa0f65dcb3",
   "metadata": {},
   "source": [
    "### Tokenization"
   ]
  },
  {
   "cell_type": "code",
   "execution_count": 16,
   "id": "010a7d8a-44a5-4a53-a5fc-63d7a0118b12",
   "metadata": {},
   "outputs": [
    {
     "name": "stdout",
     "output_type": "stream",
     "text": [
      "Tokens:\n",
      " ['cats', 'were', 'chasing', 'the', 'mice', 'while', 'the', 'dogs', 'were', 'barking', 'loudly', 'in', 'the', 'yard', '.']\n"
     ]
    }
   ],
   "source": [
    "tokens = word_tokenize(text.lower())\n",
    "print(\"Tokens:\\n\", tokens)"
   ]
  },
  {
   "cell_type": "markdown",
   "id": "dd541f57-8582-48bf-a174-d24440acf0ed",
   "metadata": {},
   "source": [
    "### Removing Stopwords"
   ]
  },
  {
   "cell_type": "code",
   "execution_count": 24,
   "id": "86f127ef-9d88-4c3c-95ea-310cbab2f885",
   "metadata": {},
   "outputs": [
    {
     "name": "stdout",
     "output_type": "stream",
     "text": [
      "words with less english meaning (removed words): ['were', 'the', 'while', 'the', 'were', 'in', 'the']\n",
      "\n",
      "words with more english meaning (kept words)   : ['cats', 'chasing', 'mice', 'dogs', 'barking', 'loudly', 'yard', '.']\n"
     ]
    }
   ],
   "source": [
    "filtered = [w for w in tokens if w not in stopwords.words('english')] # a list comprehension for accessing each word in tokens\n",
    "removed = [w for w in tokens if w in stopwords.words('english')] # a list comprehension for accessing each word in tokens\n",
    "\n",
    "print(\"words with less english meaning (removed words):\",removed)\n",
    "print(\"\\nwords with more english meaning (kept words)   :\",filtered)\n"
   ]
  },
  {
   "cell_type": "markdown",
   "id": "d782c23c-505e-48b4-bcc4-2c32501948cd",
   "metadata": {},
   "source": [
    "### Stemming"
   ]
  },
  {
   "cell_type": "code",
   "execution_count": 25,
   "id": "f7f2f05e-ffff-44df-a2b5-8a158ac1e752",
   "metadata": {},
   "outputs": [
    {
     "name": "stdout",
     "output_type": "stream",
     "text": [
      "after stemming ['cat', 'chase', 'mice', 'dog', 'bark', 'loudli', 'yard', '.']\n"
     ]
    }
   ],
   "source": [
    "stemmer = PorterStemmer()\n",
    "stemmed = [stemmer.stem(w) for w in filtered]\n",
    "\n",
    "print(\"after stemming\", stemmed)"
   ]
  },
  {
   "cell_type": "markdown",
   "id": "b06172ed-297d-4dcc-834c-03f12874fad2",
   "metadata": {},
   "source": [
    "### Lemmatization"
   ]
  },
  {
   "cell_type": "code",
   "execution_count": 27,
   "id": "f90cbe08-6f7d-46ac-a4c9-f19122d9e546",
   "metadata": {},
   "outputs": [
    {
     "name": "stdout",
     "output_type": "stream",
     "text": [
      "Lemmatized: ['cat', 'chasing', 'mouse', 'dog', 'barking', 'loudly', 'yard', '.']\n"
     ]
    }
   ],
   "source": [
    "lemmatizer = WordNetLemmatizer()\n",
    "lemmatized = [lemmatizer.lemmatize(w) for w in filtered]\n",
    "print(\"Lemmatized:\", lemmatized)"
   ]
  },
  {
   "cell_type": "markdown",
   "id": "5b76839b-84bb-4b11-a7cd-125bda824450",
   "metadata": {},
   "source": [
    "## Done"
   ]
  },
  {
   "cell_type": "code",
   "execution_count": 37,
   "id": "03e19345-a4d1-4c6b-95be-fa8ce48740f4",
   "metadata": {},
   "outputs": [
    {
     "name": "stdout",
     "output_type": "stream",
     "text": [
      "Lemmatized: ['cat', 'chasing', 'mouse', 'dog', 'barking', 'loudly', 'yard', '.']\n"
     ]
    }
   ],
   "source": [
    "lemmatizer = WordNetLemmatizer()\n",
    "lemmatized = [lemmatizer.lemmatize(w) for w in filtered]\n",
    "print(\"Lemmatized:\", lemmatized)"
   ]
  },
  {
   "cell_type": "code",
   "execution_count": 40,
   "id": "85668a24-8445-469e-8542-3245203af5bc",
   "metadata": {},
   "outputs": [
    {
     "name": "stdout",
     "output_type": "stream",
     "text": [
      "On branch main\n",
      "Your branch is up to date with 'origin/main'.\n",
      "\n",
      "nothing to commit, working tree clean\n"
     ]
    },
    {
     "name": "stderr",
     "output_type": "stream",
     "text": [
      "Everything up-to-date\n"
     ]
    }
   ],
   "source": [
    "!cd \"C:\\Users\\erfan\\Desktop\\NLP\"\n",
    "!git add .\n",
    "!git commit -m \"Your description of the changeassss\"\n",
    "!git push\n"
   ]
  },
  {
   "cell_type": "code",
   "execution_count": null,
   "id": "96eaf714-bd0a-4f53-8d98-e02bb27f1e81",
   "metadata": {},
   "outputs": [],
   "source": [
    "cd \"C:\\Users\\erfan\\Desktop\\NLP\"\n",
    "git add .\n",
    "git commit -m \"myedit\"\n",
    "git push\n"
   ]
  }
 ],
 "metadata": {
  "kernelspec": {
   "display_name": "Python 3 (ipykernel)",
   "language": "python",
   "name": "python3"
  },
  "language_info": {
   "codemirror_mode": {
    "name": "ipython",
    "version": 3
   },
   "file_extension": ".py",
   "mimetype": "text/x-python",
   "name": "python",
   "nbconvert_exporter": "python",
   "pygments_lexer": "ipython3",
   "version": "3.8.20"
  }
 },
 "nbformat": 4,
 "nbformat_minor": 5
}
