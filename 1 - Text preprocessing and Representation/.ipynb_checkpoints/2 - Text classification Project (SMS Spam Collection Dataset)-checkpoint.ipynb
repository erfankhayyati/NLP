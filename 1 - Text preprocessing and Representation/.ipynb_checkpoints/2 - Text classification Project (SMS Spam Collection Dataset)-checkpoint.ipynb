{
 "cells": [
  {
   "cell_type": "code",
   "execution_count": 80,
   "id": "3382921a-3727-4d9f-8d01-47c81aa95a5a",
   "metadata": {},
   "outputs": [],
   "source": [
    "# Import libraries\n",
    "import pandas as pd\n",
    "import nltk\n",
    "from nltk.tokenize import word_tokenize\n",
    "from nltk.corpus import stopwords\n",
    "from nltk.stem import WordNetLemmatizer"
   ]
  },
  {
   "cell_type": "markdown",
   "id": "fb825c3b-6494-44e9-97fa-3ca584bc7e54",
   "metadata": {},
   "source": [
    "### Load dataset"
   ]
  },
  {
   "cell_type": "code",
   "execution_count": 81,
   "id": "35ba38b2-3310-492c-97b9-fc3e334314db",
   "metadata": {},
   "outputs": [
    {
     "name": "stdout",
     "output_type": "stream",
     "text": [
      "Total messages: 5572\n",
      "  label                                               text\n",
      "0   ham  Go until jurong point, crazy.. Available only ...\n",
      "1   ham                      Ok lar... Joking wif u oni...\n",
      "2  spam  Free entry in 2 a wkly comp to win FA Cup fina...\n",
      "3   ham  U dun say so early hor... U c already then say...\n",
      "4   ham  Nah I don't think he goes to usf, he lives aro... \n",
      "\n",
      "Example message:\n",
      " Go until jurong point, crazy.. Available only in bugis n great world la e buffet... Cine there got amore wat...\n"
     ]
    }
   ],
   "source": [
    "df = pd.read_csv(\"spam.csv\", encoding=\"latin-1\")[['v1', 'v2']]\n",
    "df.columns = ['label', 'text']\n",
    "\n",
    "print(f\"Total messages: {len(df)}\")\n",
    "print(df.head(), \"\\n\")\n",
    "print(\"Example message:\\n\", df['text'][0])"
   ]
  },
  {
   "cell_type": "markdown",
   "id": "36b613f9-f604-4168-90db-888cde044008",
   "metadata": {},
   "source": [
    "### Download NLTK resources"
   ]
  },
  {
   "cell_type": "code",
   "execution_count": 82,
   "id": "1b638fe7-0c68-4923-81e1-1df30002ca1c",
   "metadata": {},
   "outputs": [
    {
     "name": "stderr",
     "output_type": "stream",
     "text": [
      "[nltk_data] Downloading package punkt to\n",
      "[nltk_data]     C:\\Users\\erfan\\AppData\\Roaming\\nltk_data...\n",
      "[nltk_data]   Package punkt is already up-to-date!\n",
      "[nltk_data] Downloading package stopwords to\n",
      "[nltk_data]     C:\\Users\\erfan\\AppData\\Roaming\\nltk_data...\n",
      "[nltk_data]   Package stopwords is already up-to-date!\n",
      "[nltk_data] Downloading package wordnet to\n",
      "[nltk_data]     C:\\Users\\erfan\\AppData\\Roaming\\nltk_data...\n",
      "[nltk_data]   Package wordnet is already up-to-date!\n"
     ]
    },
    {
     "data": {
      "text/plain": [
       "True"
      ]
     },
     "execution_count": 82,
     "metadata": {},
     "output_type": "execute_result"
    }
   ],
   "source": [
    "nltk.download('punkt')\n",
    "nltk.download('stopwords')\n",
    "nltk.download('wordnet')"
   ]
  },
  {
   "cell_type": "markdown",
   "id": "a91a0ec5-25a6-42b2-b2e6-458c8a423171",
   "metadata": {},
   "source": [
    "### Tokenization"
   ]
  },
  {
   "cell_type": "code",
   "execution_count": 86,
   "id": "98c09da4-9eeb-4d70-a955-5157688847e4",
   "metadata": {},
   "outputs": [
    {
     "name": "stdout",
     "output_type": "stream",
     "text": [
      "\n",
      "Tokenization Example:\n",
      "['go', 'until', 'jurong', 'point', ',', 'crazy', '..', 'available', 'only', 'in', 'bugis', 'n', 'great', 'world', 'la', 'e', 'buffet', '...', 'cine', 'there', 'got', 'amore', 'wat', '...']\n",
      "Total tokenized messages: 5572\n"
     ]
    }
   ],
   "source": [
    "# Split each text into a list of lowercase tokens\n",
    "tokens = [word_tokenize(text.lower()) for text in df['text']]\n",
    "\n",
    "print(\"\\nTokenization Example:\")\n",
    "print(tokens[0])  # First message tokenized\n",
    "print(f\"Total tokenized messages: {len(tokens)}\")\n"
   ]
  },
  {
   "cell_type": "markdown",
   "id": "179ced92-8001-4973-81b2-df9f07fbb97b",
   "metadata": {},
   "source": [
    "### Stopword Removal"
   ]
  },
  {
   "cell_type": "code",
   "execution_count": 85,
   "id": "0fc15212-d2cf-4f6d-9712-9f26c3cd500d",
   "metadata": {},
   "outputs": [
    {
     "name": "stdout",
     "output_type": "stream",
     "text": [
      "\n",
      "Stopword Removal Example:\n",
      "Before: ['go', 'until', 'jurong', 'point', ',', 'crazy', '..', 'available', 'only', 'in', 'bugis', 'n', 'great', 'world', 'la', 'e', 'buffet', '...', 'cine', 'there', 'got', 'amore', 'wat', '...']\n",
      "After : ['go', 'jurong', 'point', 'crazy', 'available', 'bugis', 'n', 'great', 'world', 'la', 'e', 'buffet', 'cine', 'got', 'amore', 'wat']\n"
     ]
    }
   ],
   "source": [
    "stop_words = set(stopwords.words('english'))\n",
    "\n",
    "# Remove stopwords and keep only alphabetic words\n",
    "no_stop = [\n",
    "    [w for w in sent if w.isalpha() and w not in stop_words]\n",
    "    for sent in tokens\n",
    "]\n",
    "\n",
    "print(\"\\nStopword Removal Example:\")\n",
    "print(\"Before:\", tokens[0])\n",
    "print(\"After :\", no_stop[0])\n"
   ]
  },
  {
   "cell_type": "markdown",
   "id": "d47545a4-b6c5-44a3-8975-c73a85a3dc1d",
   "metadata": {},
   "source": [
    "### Lemmatization"
   ]
  },
  {
   "cell_type": "code",
   "execution_count": 84,
   "id": "f3758b08-0e71-4a9b-b275-329a17854eb9",
   "metadata": {},
   "outputs": [
    {
     "name": "stdout",
     "output_type": "stream",
     "text": [
      "\n",
      "Lemmatization Example:\n",
      "Before: ['go', 'jurong', 'point', 'crazy', 'available', 'bugis', 'n', 'great', 'world', 'la', 'e', 'buffet', 'cine', 'got', 'amore', 'wat']\n",
      "After : ['go', 'jurong', 'point', 'crazy', 'available', 'bugis', 'n', 'great', 'world', 'la', 'e', 'buffet', 'cine', 'got', 'amore', 'wat']\n"
     ]
    }
   ],
   "source": [
    "lemmatizer = WordNetLemmatizer()\n",
    "\n",
    "# Lemmatize each remaining word\n",
    "lemmatized = [\n",
    "    [lemmatizer.lemmatize(w) for w in sent]\n",
    "    for sent in no_stop\n",
    "]\n",
    "\n",
    "print(\"\\nLemmatization Example:\")\n",
    "print(\"Before:\", no_stop[0])\n",
    "print(\"After :\", lemmatized[0])"
   ]
  },
  {
   "cell_type": "markdown",
   "id": "f9d12b19-73e7-4e54-8e38-87c5460c84ce",
   "metadata": {},
   "source": [
    "### Join Word Back Into Clean Text"
   ]
  },
  {
   "cell_type": "code",
   "execution_count": 83,
   "id": "b1f060fe-fa18-4518-bc7f-add6485d3977",
   "metadata": {},
   "outputs": [
    {
     "name": "stdout",
     "output_type": "stream",
     "text": [
      "\n",
      " First 3 cleaned messages:\n",
      "1. go jurong point crazy available bugis n great world la e buffet cine got amore wat\n",
      "2. ok lar joking wif u oni\n",
      "3. free entry wkly comp win fa cup final tkts may text fa receive entry question std txt rate c apply\n",
      "\n",
      " DataFrame with cleaned text:\n",
      "  label                                         clean_text\n",
      "0   ham  go jurong point crazy available bugis n great ...\n",
      "1   ham                            ok lar joking wif u oni\n",
      "2  spam  free entry wkly comp win fa cup final tkts may...\n",
      "3   ham                u dun say early hor u c already say\n",
      "4   ham                nah think go usf life around though\n"
     ]
    }
   ],
   "source": [
    "cleaned_texts = [' '.join(words) for words in lemmatized]\n",
    "\n",
    "print(\"\\n First 3 cleaned messages:\")\n",
    "for i in range(3):\n",
    "    print(f\"{i+1}. {cleaned_texts[i]}\")\n",
    "\n",
    "# Add cleaned text back to DataFrame\n",
    "\n",
    "df['clean_text'] = cleaned_texts\n",
    "\n",
    "print(\"\\n DataFrame with cleaned text:\")\n",
    "print(df[['label', 'clean_text']].head())"
   ]
  },
  {
   "cell_type": "markdown",
   "id": "44fb51f3-1527-421a-a81b-fd5022249337",
   "metadata": {},
   "source": [
    "### Data Split"
   ]
  },
  {
   "cell_type": "code",
   "execution_count": 76,
   "id": "f81e0c40-cd72-4183-b33c-2cf2f779fcab",
   "metadata": {},
   "outputs": [],
   "source": [
    "from sklearn.model_selection import train_test_split\n",
    "\n",
    "X = df['clean_text']\n",
    "y = df['label']\n",
    "\n",
    "X_train, X_test, y_train, y_test = train_test_split(\n",
    "    X, y, test_size=0.2, random_state=42, stratify=y\n",
    ")\n"
   ]
  },
  {
   "cell_type": "markdown",
   "id": "c727e2d7-7f84-416b-9bf5-4ead4f177580",
   "metadata": {},
   "source": [
    "### BoW and TF-IDF Representations"
   ]
  },
  {
   "cell_type": "code",
   "execution_count": 77,
   "id": "ed479426-a810-4262-a343-d75ff19bb0b4",
   "metadata": {},
   "outputs": [
    {
     "name": "stdout",
     "output_type": "stream",
     "text": [
      "BoW shape: (4457, 5898)\n",
      "TF-IDF shape: (4457, 5898)\n"
     ]
    }
   ],
   "source": [
    "from sklearn.feature_extraction.text import CountVectorizer, TfidfVectorizer\n",
    "\n",
    "bow = CountVectorizer()\n",
    "tfidf = TfidfVectorizer()\n",
    "\n",
    "X_train_bow = bow.fit_transform(X_train)\n",
    "X_test_bow  = bow.transform(X_test)\n",
    "\n",
    "X_train_tfidf = tfidf.fit_transform(X_train)\n",
    "X_test_tfidf  = tfidf.transform(X_test)\n",
    "\n",
    "print(\"BoW shape:\", X_train_bow.shape)\n",
    "print(\"TF-IDF shape:\", X_train_tfidf.shape)\n"
   ]
  },
  {
   "cell_type": "markdown",
   "id": "7b81d722-c7e5-4d4a-8b76-8381415a8f9c",
   "metadata": {},
   "source": [
    "### Train ML Models"
   ]
  },
  {
   "cell_type": "code",
   "execution_count": 87,
   "id": "8c8231b8-4123-4851-bb07-d4dc64395287",
   "metadata": {},
   "outputs": [
    {
     "name": "stdout",
     "output_type": "stream",
     "text": [
      "\n",
      "-- Naive Bayes Results\n",
      "Accuracy: 0.9650224215246637\n",
      "              precision    recall  f1-score   support\n",
      "\n",
      "         ham       0.96      1.00      0.98       966\n",
      "        spam       0.99      0.74      0.85       149\n",
      "\n",
      "    accuracy                           0.97      1115\n",
      "   macro avg       0.98      0.87      0.92      1115\n",
      "weighted avg       0.97      0.97      0.96      1115\n",
      "\n",
      "\n",
      "-- Logistic Regression Results\n",
      "Accuracy: 0.9623318385650225\n",
      "              precision    recall  f1-score   support\n",
      "\n",
      "         ham       0.96      1.00      0.98       966\n",
      "        spam       0.99      0.72      0.84       149\n",
      "\n",
      "    accuracy                           0.96      1115\n",
      "   macro avg       0.98      0.86      0.91      1115\n",
      "weighted avg       0.96      0.96      0.96      1115\n",
      "\n",
      "\n",
      "-- SVM Results\n",
      "Accuracy: 0.9829596412556054\n",
      "              precision    recall  f1-score   support\n",
      "\n",
      "         ham       0.98      1.00      0.99       966\n",
      "        spam       0.99      0.88      0.93       149\n",
      "\n",
      "    accuracy                           0.98      1115\n",
      "   macro avg       0.99      0.94      0.96      1115\n",
      "weighted avg       0.98      0.98      0.98      1115\n",
      "\n"
     ]
    },
    {
     "name": "stderr",
     "output_type": "stream",
     "text": [
      "C:\\Users\\erfan\\anaconda3\\envs\\my2\\lib\\site-packages\\sklearn\\svm\\_classes.py:32: FutureWarning: The default value of `dual` will change from `True` to `'auto'` in 1.5. Set the value of `dual` explicitly to suppress the warning.\n",
      "  warnings.warn(\n"
     ]
    }
   ],
   "source": [
    "from sklearn.naive_bayes import MultinomialNB\n",
    "from sklearn.linear_model import LogisticRegression\n",
    "from sklearn.svm import LinearSVC\n",
    "from sklearn.metrics import accuracy_score, classification_report\n",
    "\n",
    "models = {\n",
    "    \"Naive Bayes\": MultinomialNB(),\n",
    "    \"Logistic Regression\": LogisticRegression(max_iter=1000),\n",
    "    \"SVM\": LinearSVC()\n",
    "}\n",
    "\n",
    "for name, model in models.items():\n",
    "    model.fit(X_train_tfidf, y_train)\n",
    "    preds = model.predict(X_test_tfidf)\n",
    "    print(f\"\\n-- {name} Results\")\n",
    "    print(\"Accuracy:\", accuracy_score(y_test, preds))\n",
    "    print(classification_report(y_test, preds))\n"
   ]
  },
  {
   "cell_type": "code",
   "execution_count": 88,
   "id": "e79ab574-471c-4bb6-bdec-258d3ecd163c",
   "metadata": {},
   "outputs": [
    {
     "data": {
      "image/png": "[encoded data removed]",
      "text/plain": [
       "<Figure size 640x480 with 2 Axes>"
      ]
     },
     "metadata": {},
     "output_type": "display_data"
    }
   ],
   "source": [
    "from sklearn.metrics import confusion_matrix, ConfusionMatrixDisplay\n",
    "import matplotlib.pyplot as plt\n",
    "\n",
    "pred = models[\"SVM\"].predict(X_test_tfidf)\n",
    "cm = confusion_matrix(y_test, pred)\n",
    "ConfusionMatrixDisplay(cm, display_labels=models[\"SVM\"].classes_).plot(cmap=\"Blues\")\n",
    "plt.title(\"Confusion Matrix - SVM Model\")\n",
    "plt.show()\n"
   ]
  },
  {
   "cell_type": "code",
   "execution_count": null,
   "id": "0d0be4f8-cce2-4d48-a010-734d777e9554",
   "metadata": {},
   "outputs": [],
   "source": []
  }
 ],
 "metadata": {
  "kernelspec": {
   "display_name": "Python 3 (ipykernel)",
   "language": "python",
   "name": "python3"
  },
  "language_info": {
   "codemirror_mode": {
    "name": "ipython",
    "version": 3
   },
   "file_extension": ".py",
   "mimetype": "text/x-python",
   "name": "python",
   "nbconvert_exporter": "python",
   "pygments_lexer": "ipython3",
   "version": "3.8.20"
  }
 },
 "nbformat": 4,
 "nbformat_minor": 5
}
